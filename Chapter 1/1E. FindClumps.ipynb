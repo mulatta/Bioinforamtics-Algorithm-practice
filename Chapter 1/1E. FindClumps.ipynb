{
 "cells": [
  {
   "cell_type": "code",
   "execution_count": 1,
   "metadata": {},
   "outputs": [],
   "source": [
    "# 텍스트 파일을 읽어서 각 line을 lines 변수에 리스트로 저장\n",
    "path = \"rosalind_ba1e.txt\"\n",
    "fileBuffer = open(path, 'r')\n",
    "lines = fileBuffer.readlines()"
   ]
  },
  {
   "cell_type": "code",
   "execution_count": 2,
   "metadata": {},
   "outputs": [],
   "source": [
    "# 각 line을 해당하는 변수들로 할당\n",
    "genome = lines[0].strip()\n",
    "param = lines[1].strip().split()\n",
    "k = int(param[0])\n",
    "L = int(param[1])\n",
    "t = int(param[2])"
   ]
  },
  {
   "cell_type": "code",
   "execution_count": 3,
   "metadata": {},
   "outputs": [],
   "source": [
    "# 주어진 유전체 문자열에서 크기가 L인 윈도우만큼을 순회하여 각 윈도우에서 t만큼의 빈도로 등장하는 k-mer를 배열로 출력\n",
    "def findClumps(genome, k, L, t):\n",
    "    # 출력 변수 선언\n",
    "    ClumpsList = []\n",
    "\n",
    "    # genome에서 길이가 L인 substr을 가져오는 반복문\n",
    "    for window in range(len(genome)):\n",
    "        substr = genome[window:window+L]\n",
    "\n",
    "        # L-substr에서 모든 문자열에 대한 순회 시작\n",
    "        for i in range(L):\n",
    "        \n",
    "            # 각 시작점에서 형성되는 k-mer를 pattern으로 설정\n",
    "            pattern = substr[i:i+k]\n",
    "            \n",
    "            # 등장 횟수를 세기 위한 count 변수 선언\n",
    "            count = 0\n",
    "\n",
    "            # k-mer가 형성될 수 있는 substr을 순회\n",
    "            for j in range(len(substr)-k):\n",
    "                \n",
    "                # 현재 시작점으로 설정된(순회중인) 문자열이 형성하는 k-mer가 찾고자 하는 k-mer(pattern)과 같다면 count\n",
    "                if(substr[j:j+k] == pattern):\n",
    "                    count += 1\n",
    "            \n",
    "            # 만약 기록된 pattern의 빈도가 t와 같다면 ClumpsList 에 저장\n",
    "            if count == t: \n",
    "                ClumpsList.append(pattern)\n",
    "\n",
    "    # 중복 제거\n",
    "    ClumpsList = set(ClumpsList)\n",
    "            \n",
    "    return ClumpsList\n"
   ]
  },
  {
   "cell_type": "code",
   "execution_count": 4,
   "metadata": {},
   "outputs": [
    {
     "name": "stdout",
     "output_type": "stream",
     "text": [
      "TTCACTGTGCA CCGCTATTCAG CGTCCTCGCGG AGGCCTTAACC ATTGCAGTACG TGCTGTCGCGC TGGAGAGCCAT TCCCACGAGGT\n"
     ]
    }
   ],
   "source": [
    "print(' '.join(findClumps(genome, k, L, t)))"
   ]
  },
  {
   "cell_type": "code",
   "execution_count": 5,
   "metadata": {},
   "outputs": [],
   "source": [
    "# 열었던 파일 닫기\n",
    "fileBuffer.close()"
   ]
  }
 ],
 "metadata": {
  "kernelspec": {
   "display_name": "pydev",
   "language": "python",
   "name": "python3"
  },
  "language_info": {
   "codemirror_mode": {
    "name": "ipython",
    "version": 3
   },
   "file_extension": ".py",
   "mimetype": "text/x-python",
   "name": "python",
   "nbconvert_exporter": "python",
   "pygments_lexer": "ipython3",
   "version": "3.10.10"
  }
 },
 "nbformat": 4,
 "nbformat_minor": 2
}
