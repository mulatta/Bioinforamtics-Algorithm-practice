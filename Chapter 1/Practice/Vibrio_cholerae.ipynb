{
 "cells": [
  {
   "cell_type": "markdown",
   "metadata": {},
   "source": [
    "# Practice: Strategy for find *ori*\n",
    "- Textbook에서는 *ori* finding을 위한 흐름이 다음과 같았다.\n",
    "    1. Whole genome 수준: 빈번한 단어 찾기 - 역상보 문제 - 패턴 일치 문제\n",
    "    2. Local frequency: 군집 찾기 - 복제 비대칭성\n",
    "    3. 대략적인 패턴 문제 (동일하지는 않지만 유사한 pattern)\n",
    "- 그러나, 실제로 *ori* 를 찾기 위해서, 위와 같은 순서대로 진행하면 search space가 처음부터 너무 넓다.  \n",
    "- 따라서, 다음과 같은 순서로 *ori* 를 찾고자 한다.  \n",
    "    1. 복제 비대칭성: Whole genome 상에서 찾아야 할 부분을 거시적으로 탐색\n",
    "    2. 군집 찾기: 일정한 크기의 window로 pattern 등장 빈도가 밀집된 영역 확인 - 1에서 찾은 부분이 들어맞는지 확인\n",
    "    3. 각 Local area에서 빈번한지 확인"
   ]
  },
  {
   "cell_type": "markdown",
   "metadata": {},
   "source": [
    "## Preparation for Practice\n",
    "- Import packages\n",
    "- Read file"
   ]
  },
  {
   "cell_type": "code",
   "execution_count": 12,
   "metadata": {},
   "outputs": [],
   "source": [
    "# Basic os packages\n",
    "import sys\n",
    "import os\n",
    "\n",
    "# Import local functions\n",
    "dir_path = os.path.dirname(os.path.abspath('__file__'))\n",
    "sys.path.append(dir_path)\n",
    "\n",
    "# Import external packages\n",
    "import pandas as pd\n",
    "import numpy as np\n",
    "import matplotlib.pyplot as plt\n",
    "from pprint import pprint"
   ]
  },
  {
   "cell_type": "code",
   "execution_count": 2,
   "metadata": {},
   "outputs": [],
   "source": [
    "# Read file\n",
    "path = \"./Vibrio_cholerae.txt\"\n",
    "f = open(path, 'r')\n",
    "genome = f.readline().strip()"
   ]
  },
  {
   "cell_type": "markdown",
   "metadata": {},
   "source": [
    "## G-C ratio Assymmetry\n",
    "### Goals\n",
    " *ori* 가 있을법한 후보 \"영역\" 찾기\n",
    "\n",
    "### Steps\n",
    "1. 임의의 개수로 bin을 나누어 각 bin 별로 base 빈도가 얼마나 되는지 확인\n",
    "2. Assymmetry diagram을 통해 각 minima, maxima 확인"
   ]
  },
  {
   "cell_type": "code",
   "execution_count": 3,
   "metadata": {},
   "outputs": [
    {
     "name": "stdout",
     "output_type": "stream",
     "text": [
      "1108250\n"
     ]
    }
   ],
   "source": [
    "print(len(genome))"
   ]
  },
  {
   "cell_type": "code",
   "execution_count": 49,
   "metadata": {},
   "outputs": [],
   "source": [
    "bins = []\n",
    "binNumber = 12\n",
    "genomeSize = len(genome)\n",
    "\n",
    "for bin in range(binNumber):\n",
    "    start = genomeSize * bin // binNumber\n",
    "    end = genomeSize * (bin + 1) // binNumber\n",
    "    bins.append(genome[start:end])"
   ]
  },
  {
   "cell_type": "code",
   "execution_count": 146,
   "metadata": {},
   "outputs": [],
   "source": [
    "binNumber = 12\n",
    "genomeSize = len(genome)\n",
    "binSize = genomeSize // binNumber + 1\n",
    "\n",
    "bins = np.empty((binSize, binNumber), dtype=np.object_)\n",
    "\n",
    "# genome을 binNumber로 나누어서 bins에 저장\n",
    "for nbin in range(binNumber):\n",
    "    start = genomeSize * nbin // binNumber\n",
    "    end = genomeSize * (nbin + 1) // binNumber\n",
    "    \n",
    "    binContents = genome[start:end]\n",
    "    \n",
    "    for idx in range(len(binContents)):\n",
    "        bins[idx][nbin] = binContents[idx]\n",
    "    \n",
    "    # binSize보다 작으면 N으로 채움\n",
    "    if len(binContents) != binSize: \n",
    "        bins[-1][nbin] = 'N'"
   ]
  },
  {
   "cell_type": "code",
   "execution_count": 147,
   "metadata": {},
   "outputs": [
    {
     "name": "stdout",
     "output_type": "stream",
     "text": [
      "[['A' 'G' 'T' ... 'A' 'T' 'C']\n",
      " ['C' 'C' 'T' ... 'T' 'T' 'G']\n",
      " ['A' 'A' 'G' ... 'C' 'T' 'G']\n",
      " ...\n",
      " ['T' 'G' 'G' ... 'G' 'C' 'A']\n",
      " ['G' 'A' 'C' ... 'T' 'T' 'A']\n",
      " ['N' 'N' 'N' ... 'N' 'N' 'A']] (92355, 12)\n"
     ]
    }
   ],
   "source": [
    "print(bins, bins.shape)"
   ]
  },
  {
   "cell_type": "code",
   "execution_count": 152,
   "metadata": {},
   "outputs": [
    {
     "data": {
      "text/plain": [
       "(array(['A', 'C', 'G', 'N', 'T'], dtype=object),\n",
       " array([293942, 263573, 256024,     10, 294711]))"
      ]
     },
     "execution_count": 152,
     "metadata": {},
     "output_type": "execute_result"
    }
   ],
   "source": [
    "np.unique(bins[:], return_counts=True)"
   ]
  },
  {
   "cell_type": "code",
   "execution_count": 153,
   "metadata": {},
   "outputs": [
    {
     "data": {
      "text/html": [
       "<div>\n",
       "<style scoped>\n",
       "    .dataframe tbody tr th:only-of-type {\n",
       "        vertical-align: middle;\n",
       "    }\n",
       "\n",
       "    .dataframe tbody tr th {\n",
       "        vertical-align: top;\n",
       "    }\n",
       "\n",
       "    .dataframe thead th {\n",
       "        text-align: right;\n",
       "    }\n",
       "</style>\n",
       "<table border=\"1\" class=\"dataframe\">\n",
       "  <thead>\n",
       "    <tr style=\"text-align: right;\">\n",
       "      <th></th>\n",
       "      <th>0</th>\n",
       "      <th>1</th>\n",
       "      <th>2</th>\n",
       "      <th>3</th>\n",
       "      <th>4</th>\n",
       "      <th>5</th>\n",
       "      <th>6</th>\n",
       "      <th>7</th>\n",
       "      <th>8</th>\n",
       "      <th>9</th>\n",
       "      <th>10</th>\n",
       "      <th>11</th>\n",
       "    </tr>\n",
       "  </thead>\n",
       "  <tbody>\n",
       "    <tr>\n",
       "      <th>count</th>\n",
       "      <td>92355</td>\n",
       "      <td>92355</td>\n",
       "      <td>92355</td>\n",
       "      <td>92355</td>\n",
       "      <td>92355</td>\n",
       "      <td>92355</td>\n",
       "      <td>92355</td>\n",
       "      <td>92355</td>\n",
       "      <td>92355</td>\n",
       "      <td>92355</td>\n",
       "      <td>92355</td>\n",
       "      <td>92355</td>\n",
       "    </tr>\n",
       "    <tr>\n",
       "      <th>unique</th>\n",
       "      <td>5</td>\n",
       "      <td>5</td>\n",
       "      <td>5</td>\n",
       "      <td>5</td>\n",
       "      <td>5</td>\n",
       "      <td>4</td>\n",
       "      <td>5</td>\n",
       "      <td>5</td>\n",
       "      <td>5</td>\n",
       "      <td>5</td>\n",
       "      <td>5</td>\n",
       "      <td>4</td>\n",
       "    </tr>\n",
       "    <tr>\n",
       "      <th>top</th>\n",
       "      <td>A</td>\n",
       "      <td>A</td>\n",
       "      <td>T</td>\n",
       "      <td>T</td>\n",
       "      <td>T</td>\n",
       "      <td>T</td>\n",
       "      <td>A</td>\n",
       "      <td>T</td>\n",
       "      <td>A</td>\n",
       "      <td>A</td>\n",
       "      <td>A</td>\n",
       "      <td>T</td>\n",
       "    </tr>\n",
       "    <tr>\n",
       "      <th>freq</th>\n",
       "      <td>24268</td>\n",
       "      <td>24363</td>\n",
       "      <td>24605</td>\n",
       "      <td>24587</td>\n",
       "      <td>25049</td>\n",
       "      <td>24992</td>\n",
       "      <td>24355</td>\n",
       "      <td>24431</td>\n",
       "      <td>26063</td>\n",
       "      <td>28050</td>\n",
       "      <td>24430</td>\n",
       "      <td>24656</td>\n",
       "    </tr>\n",
       "  </tbody>\n",
       "</table>\n",
       "</div>"
      ],
      "text/plain": [
       "           0      1      2      3      4      5      6      7      8      9   \\\n",
       "count   92355  92355  92355  92355  92355  92355  92355  92355  92355  92355   \n",
       "unique      5      5      5      5      5      4      5      5      5      5   \n",
       "top         A      A      T      T      T      T      A      T      A      A   \n",
       "freq    24268  24363  24605  24587  25049  24992  24355  24431  26063  28050   \n",
       "\n",
       "           10     11  \n",
       "count   92355  92355  \n",
       "unique      5      4  \n",
       "top         A      T  \n",
       "freq    24430  24656  "
      ]
     },
     "execution_count": 153,
     "metadata": {},
     "output_type": "execute_result"
    }
   ],
   "source": [
    "binDF = pd.DataFrame(bins)\n",
    "binDF.describe()"
   ]
  }
 ],
 "metadata": {
  "kernelspec": {
   "display_name": "pydev",
   "language": "python",
   "name": "python3"
  },
  "language_info": {
   "codemirror_mode": {
    "name": "ipython",
    "version": 3
   },
   "file_extension": ".py",
   "mimetype": "text/x-python",
   "name": "python",
   "nbconvert_exporter": "python",
   "pygments_lexer": "ipython3",
   "version": "3.10.10"
  }
 },
 "nbformat": 4,
 "nbformat_minor": 2
}
