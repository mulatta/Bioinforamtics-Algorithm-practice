{
 "cells": [
  {
   "cell_type": "markdown",
   "metadata": {},
   "source": [
    "# Find **ori** of *Salmonella enterica*\n",
    "지금까지 *ori*를 찾기 위해 다양한 시도들을 수행했었다.\n",
    "1. Pattern의 빈도\n",
    "2. Clumps의 형성\n",
    "3. Skewness 확인\n",
    "\n",
    "이번 노트에서는, *S. enterica*의 genome 데이터를 통해 주어진 단서들이 어떻게 *ori*를 실제로 찾을 수 있게 하는지 확인해보고자 한다."
   ]
  },
  {
   "cell_type": "code",
   "execution_count": 10,
   "metadata": {},
   "outputs": [],
   "source": [
    "import matplotlib.pyplot as plt\n",
    "import numpy as np\n",
    "from mpl_toolkits.mplot3d import Axes3D"
   ]
  },
  {
   "cell_type": "code",
   "execution_count": 2,
   "metadata": {},
   "outputs": [],
   "source": [
    "# 파일 읽어오기\n",
    "path = \"./Salmonella_enterica.txt\"\n",
    "f = open(path, 'r')\n",
    "contents = f.readlines()\n",
    "genome = ''\n",
    "for idx in range(1, len(contents)):\n",
    "    genome += contents[idx].strip()"
   ]
  },
  {
   "cell_type": "markdown",
   "metadata": {},
   "source": [
    "## Pattern in Genome\n",
    "- Genome에 빈번하게 등장하는 Pattern을 찾음으로써 *ori*가 등장하는 영역을 확인해보고자 한다.\n",
    "- 자주 등장하는 K-mer를 찾고, 등장한 횟수를 관찰\n",
    "- mismatches를 허용할 경우 등장 빈도가 가장 높은 경우 관찰"
   ]
  },
  {
   "cell_type": "code",
   "execution_count": 3,
   "metadata": {},
   "outputs": [],
   "source": [
    "from FrequentWords import FasterFrequentWords, findMostFrequentPatternWithMismatches"
   ]
  },
  {
   "cell_type": "code",
   "execution_count": 38,
   "metadata": {},
   "outputs": [],
   "source": [
    "class maxFrequency:\n",
    "    def __init__(self):\n",
    "        self.k = 0\n",
    "        self.pattern = set()\n",
    "        self.maxCount = 0\n",
    "        self.d = 0\n",
    "        self.isReverse = False"
   ]
  },
  {
   "cell_type": "code",
   "execution_count": 40,
   "metadata": {},
   "outputs": [],
   "source": [
    "frequentKmerList = [maxFrequency() for _ in range(10)]\n",
    "for idx in range(0, 10):\n",
    "    k = idx + 5\n",
    "    pattern, maxCount = FasterFrequentWords(genome, k)\n",
    "    frequentKmerList[idx].k = k\n",
    "    frequentKmerList[idx].pattern = set(pattern)\n",
    "    frequentKmerList[idx].maxCount = maxCount"
   ]
  },
  {
   "cell_type": "code",
   "execution_count": 44,
   "metadata": {},
   "outputs": [
    {
     "name": "stdout",
     "output_type": "stream",
     "text": [
      "5-mer, {'CGGCG'}, 16408\n",
      "6-mer, {'CTGGCG'}, 6473\n",
      "7-mer, {'GCTGGCG'}, 2924\n",
      "8-mer, {'CGCTGGCG'}, 1210\n",
      "9-mer, {'GCGCTGGCG'}, 490\n",
      "10-mer, {'CGCCAGCGCC'}, 192\n",
      "11-mer, {'CGCCATCCGGC'}, 108\n",
      "12-mer, {'CGCCATCCGGCA'}, 80\n",
      "13-mer, {'GTAGGCCGGATAA'}, 68\n",
      "14-mer, {'GTAGGCCGGATAAG'}, 64\n"
     ]
    }
   ],
   "source": [
    "for idx in range(0, 10):\n",
    "    print(f\"{frequentKmerList[idx].k}-mer, {frequentKmerList[idx].pattern}, {frequentKmerList[idx].maxCount}\")"
   ]
  },
  {
   "cell_type": "code",
   "execution_count": null,
   "metadata": {},
   "outputs": [
    {
     "data": {
      "text/plain": [
       "[<matplotlib.lines.Line2D at 0x11fbabcd0>]"
      ]
     },
     "execution_count": 45,
     "metadata": {},
     "output_type": "execute_result"
    },
    {
     "data": {
      "image/png": "[encoded data removed]",
      "text/plain": [
       "<Figure size 640x480 with 1 Axes>"
      ]
     },
     "metadata": {},
     "output_type": "display_data"
    }
   ],
   "source": [
    "KmerAxis, KmerCounts = [], []\n",
    "\n",
    "for idx in range(len(frequentKmerList)):\n",
    "    KmerAxis.append(frequentKmerList[idx].k)\n",
    "    KmerCounts.append(frequentKmerList[idx].maxCount)\n",
    "    \n",
    "plt.plot(KmerAxis, KmerCounts)\n",
    "plt.title('Max Counts of Most Frequent k-mer')\n",
    "plt.xlabel('K for k-mer')\n",
    "plt.ylabel('Max Counts for each k-mer')"
   ]
  },
  {
   "cell_type": "code",
   "execution_count": 46,
   "metadata": {},
   "outputs": [
    {
     "ename": "KeyboardInterrupt",
     "evalue": "",
     "output_type": "error",
     "traceback": [
      "\u001b[0;31m---------------------------------------------------------------------------\u001b[0m",
      "\u001b[0;31mKeyboardInterrupt\u001b[0m                         Traceback (most recent call last)",
      "Cell \u001b[0;32mIn[46], line 9\u001b[0m\n\u001b[1;32m      5\u001b[0m \u001b[38;5;66;03m# mismatch를 0% ~ k-mer의 절반까지 허용할 경우\u001b[39;00m\n\u001b[1;32m      6\u001b[0m \u001b[38;5;28;01mfor\u001b[39;00m d \u001b[38;5;129;01min\u001b[39;00m \u001b[38;5;28mrange\u001b[39m(k \u001b[38;5;241m/\u001b[39m\u001b[38;5;241m/\u001b[39m \u001b[38;5;241m2\u001b[39m):\n\u001b[1;32m      7\u001b[0m     \n\u001b[1;32m      8\u001b[0m     \u001b[38;5;66;03m# Reverse Complement를 포함하지 않는 경우\u001b[39;00m\n\u001b[0;32m----> 9\u001b[0m     pattern, maxCount \u001b[38;5;241m=\u001b[39m \u001b[43mfindMostFrequentPatternWithMismatches\u001b[49m\u001b[43m(\u001b[49m\u001b[43mgenome\u001b[49m\u001b[43m,\u001b[49m\u001b[43m \u001b[49m\u001b[43mk\u001b[49m\u001b[43m,\u001b[49m\u001b[43m \u001b[49m\u001b[43md\u001b[49m\u001b[43m)\u001b[49m\n\u001b[1;32m     10\u001b[0m     frequentKKmerList[idx]\u001b[38;5;241m.\u001b[39mk \u001b[38;5;241m=\u001b[39m k\n\u001b[1;32m     11\u001b[0m     frequentKKmerList[idx]\u001b[38;5;241m.\u001b[39mpattern \u001b[38;5;241m=\u001b[39m \u001b[38;5;28mset\u001b[39m(pattern)\n",
      "File \u001b[0;32m~/Documents/Development/Github/Bioinforamtics-Algorithm-practice/Chapter 1/FrequentWords.py:123\u001b[0m, in \u001b[0;36mfindMostFrequentPatternWithMismatches\u001b[0;34m(text, k, d, reverse)\u001b[0m\n\u001b[1;32m    119\u001b[0m \u001b[38;5;28;01mif\u001b[39;00m reverse \u001b[38;5;241m==\u001b[39m \u001b[38;5;28;01mFalse\u001b[39;00m:\n\u001b[1;32m    120\u001b[0m \n\u001b[1;32m    121\u001b[0m     \u001b[38;5;66;03m# 생성된 후보 k-mer를 하나씩 고려(Brute-force)\u001b[39;00m\n\u001b[1;32m    122\u001b[0m     \u001b[38;5;28;01mfor\u001b[39;00m kmer \u001b[38;5;129;01min\u001b[39;00m candidateKmer:\n\u001b[0;32m--> 123\u001b[0m         count\u001b[38;5;241m.\u001b[39mappend(\u001b[43mApproximatePatternCount\u001b[49m\u001b[43m(\u001b[49m\u001b[43mtext\u001b[49m\u001b[43m,\u001b[49m\u001b[43m \u001b[49m\u001b[43mkmer\u001b[49m\u001b[43m,\u001b[49m\u001b[43m \u001b[49m\u001b[43md\u001b[49m\u001b[43m)\u001b[49m)\n\u001b[1;32m    125\u001b[0m \u001b[38;5;66;03m# reverse complement를 고려하는 경우, 해당 서열과 그 서열의 역상보 서열의 빈도수 합을 결과로 반환\u001b[39;00m\n\u001b[1;32m    126\u001b[0m \u001b[38;5;28;01melse\u001b[39;00m:\n\u001b[1;32m    127\u001b[0m     \u001b[38;5;66;03m# 생성된 후보 k-mer를 하나씩 고려(Brute-force)\u001b[39;00m\n\u001b[1;32m    128\u001b[0m     \u001b[38;5;28;01mfor\u001b[39;00m kmer \u001b[38;5;129;01min\u001b[39;00m candidateKmer:\n",
      "File \u001b[0;32m~/Documents/Development/Github/Bioinforamtics-Algorithm-practice/Chapter 1/PatternInText.py:54\u001b[0m, in \u001b[0;36mApproximatePatternCount\u001b[0;34m(text, pattern, d)\u001b[0m\n\u001b[1;32m     51\u001b[0m     ppattern \u001b[38;5;241m=\u001b[39m text[i:i\u001b[38;5;241m+\u001b[39m\u001b[38;5;28mlen\u001b[39m(pattern)]\n\u001b[1;32m     53\u001b[0m     \u001b[38;5;66;03m# ppattern과 원래 pattern의 HammingDistance를 계산하고, d보다 작다면 count\u001b[39;00m\n\u001b[0;32m---> 54\u001b[0m     \u001b[38;5;28;01mif\u001b[39;00m \u001b[43mHammingDistance\u001b[49m\u001b[43m(\u001b[49m\u001b[43mpattern\u001b[49m\u001b[43m,\u001b[49m\u001b[43m \u001b[49m\u001b[43mppattern\u001b[49m\u001b[43m)\u001b[49m \u001b[38;5;241m<\u001b[39m\u001b[38;5;241m=\u001b[39m d:\n\u001b[1;32m     55\u001b[0m         count \u001b[38;5;241m+\u001b[39m\u001b[38;5;241m=\u001b[39m \u001b[38;5;241m1\u001b[39m\n\u001b[1;32m     57\u001b[0m \u001b[38;5;28;01mreturn\u001b[39;00m count\n",
      "File \u001b[0;32m~/Documents/Development/Github/Bioinforamtics-Algorithm-practice/Chapter 1/HammingDistance.py:10\u001b[0m, in \u001b[0;36mHammingDistance\u001b[0;34m(str1, str2)\u001b[0m\n\u001b[1;32m      8\u001b[0m \u001b[38;5;66;03m# i를 포인터로 하여 두 문자열 각각에서 다른지 비교\u001b[39;00m\n\u001b[1;32m      9\u001b[0m \u001b[38;5;28;01mfor\u001b[39;00m i \u001b[38;5;129;01min\u001b[39;00m \u001b[38;5;28mrange\u001b[39m(strlen):\n\u001b[0;32m---> 10\u001b[0m     \u001b[38;5;28;01mif\u001b[39;00m str1[i] \u001b[38;5;241m!=\u001b[39m str2[i]: \n\u001b[1;32m     11\u001b[0m         mismatch \u001b[38;5;241m+\u001b[39m\u001b[38;5;241m=\u001b[39m \u001b[38;5;241m1\u001b[39m\n\u001b[1;32m     13\u001b[0m \u001b[38;5;28;01mreturn\u001b[39;00m mismatch\n",
      "\u001b[0;31mKeyboardInterrupt\u001b[0m: "
     ]
    }
   ],
   "source": [
    "frequentKKmerList = [maxFrequency() for _ in range(10 * 45)]\n",
    "for idx in range(0, 10):\n",
    "    k = idx + 5\n",
    "    \n",
    "    # mismatch를 0% ~ k-mer의 절반까지 허용할 경우\n",
    "    for d in range(k // 2):\n",
    "        \n",
    "        # Reverse Complement를 포함하지 않는 경우\n",
    "        pattern, maxCount = findMostFrequentPatternWithMismatches(genome, k, d)\n",
    "        frequentKKmerList[idx].k = k\n",
    "        frequentKKmerList[idx].pattern = set(pattern)\n",
    "        frequentKKmerList[idx].maxCount = maxCount\n",
    "        frequentKKmerList[idx].d = d\n",
    "        frequentKKmerList[idx].isReverse = False"
   ]
  },
  {
   "cell_type": "code",
   "execution_count": null,
   "metadata": {},
   "outputs": [],
   "source": [
    "for idx in range(450):\n",
    "    print(f\"{frequentKKmerList[idx].k}-mer, {frequentKKmerList[idx].pattern}, {frequentKKmerList[idx].maxCount}, {frequentKKmerList[idx].d}\")"
   ]
  },
  {
   "cell_type": "code",
   "execution_count": null,
   "metadata": {},
   "outputs": [],
   "source": [
    "RfrequentKKmerList = [maxFrequency() for _ in range(10 * 45)]\n",
    "for idx in range(0, 10):\n",
    "    k = idx + 5\n",
    "    \n",
    "    # mismatch를 0% ~ k-mer의 절반까지 허용할 경우\n",
    "    for d in range(k // 2):\n",
    "        \n",
    "        # Reverse Complement를 포함하는 경우\n",
    "        pattern, maxCount = findMostFrequentPatternWithMismatches(genome, k, d, True)\n",
    "        RfrequentKKmerList[idx].k = k\n",
    "        RfrequentKKmerList[idx].pattern = set(pattern)\n",
    "        RfrequentKKmerList[idx].maxCount = maxCount\n",
    "        RfrequentKKmerList[idx].d = d\n",
    "        RfrequentKKmerList[idx].isReverse = True"
   ]
  },
  {
   "cell_type": "code",
   "execution_count": null,
   "metadata": {},
   "outputs": [],
   "source": [
    "for idx in range(450):\n",
    "    print(f\"{RfrequentKKmerList[idx].k}-mer, {RfrequentKKmerList[idx].pattern}, {RfrequentKKmerList[idx].maxCount}, {RfrequentKKmerList[idx].d}, {RfrequentKKmerList[idx].isReverse}\")"
   ]
  },
  {
   "cell_type": "markdown",
   "metadata": {},
   "source": [
    "## Find Clumps\n",
    "- 임의의 크기인 window 내에서 얼마나 빈번한 pattern이 밀도 높게 등장하는지 확인\n",
    "    - 다만, window의 size를 정하는 것은 다소 heuristic 할 수 있음.\n",
    "    - 논문이나 외부 추가 정보를 통해 접근하는 방법\n"
   ]
  },
  {
   "cell_type": "code",
   "execution_count": 33,
   "metadata": {},
   "outputs": [
    {
     "data": {
      "text/plain": [
       "(4809037,)"
      ]
     },
     "execution_count": 33,
     "metadata": {},
     "output_type": "execute_result"
    }
   ],
   "source": [
    "# G-C ratio check\n",
    "dictGC = {'G': 1, 'C': -1, 'A': 0, 'T': 0}\n",
    "distributionGC = []\n",
    "\n",
    "distributionGC.extend(dictGC.get(base) for base in genome)\n",
    "distributionGC = np.array(distributionGC)\n",
    "\n",
    "np.shape(distributionGC)"
   ]
  },
  {
   "cell_type": "code",
   "execution_count": 34,
   "metadata": {},
   "outputs": [
    {
     "data": {
      "image/png": "[encoded data removed]",
      "text/plain": [
       "<Figure size 640x480 with 1 Axes>"
      ]
     },
     "metadata": {},
     "output_type": "display_data"
    }
   ],
   "source": [
    "fig, ax = plt.subplots()\n",
    "x = np.linspace(0, len(genome), len(genome))\n",
    "ax.plot(x, distributionGC)\n",
    "plt.show()"
   ]
  },
  {
   "cell_type": "code",
   "execution_count": 35,
   "metadata": {},
   "outputs": [],
   "source": [
    "f.close()"
   ]
  }
 ],
 "metadata": {
  "kernelspec": {
   "display_name": "pydev",
   "language": "python",
   "name": "python3"
  },
  "language_info": {
   "codemirror_mode": {
    "name": "ipython",
    "version": 3
   },
   "file_extension": ".py",
   "mimetype": "text/x-python",
   "name": "python",
   "nbconvert_exporter": "python",
   "pygments_lexer": "ipython3",
   "version": "3.10.10"
  }
 },
 "nbformat": 4,
 "nbformat_minor": 2
}
