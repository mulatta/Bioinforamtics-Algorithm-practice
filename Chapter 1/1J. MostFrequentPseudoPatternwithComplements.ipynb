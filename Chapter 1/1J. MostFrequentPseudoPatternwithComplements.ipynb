{
 "cells": [
  {
   "cell_type": "markdown",
   "metadata": {},
   "source": [
    "## Mismatch가 있고 Reverse complement를 고려하는 빈번한 단어 문제\n",
    "\n",
    "### 개요\n",
    "- 앞선 연습문제에서는 문자열에서 d개 이하의 mismatch까지만 허용하는 *k-mer*를 찾는다.\n",
    "- 이번 문제에서는 reverse complement를 고려하여 *k-mer*와 *k-mer*의 complement *k-mer'*의 등장 빈도수 합이 최대인 서열을 찾는다.\n",
    "\n",
    "---\n",
    "이전 문제들에서 다룬 함수들\n"
   ]
  },
  {
   "cell_type": "code",
   "execution_count": 10,
   "metadata": {},
   "outputs": [],
   "source": [
    "def Complement(pattern):\n",
    "    basepair = {'A' : 'T', 'T': 'A', 'G' : 'C', 'C' : 'G'}\n",
    "    CompSeq = ''\n",
    "    for base in pattern:\n",
    "        CompSeq += basepair.get(base, 'error')\n",
    "\n",
    "    return CompSeq"
   ]
  },
  {
   "cell_type": "code",
   "execution_count": 11,
   "metadata": {},
   "outputs": [],
   "source": [
    "def Reverse(pattern):\n",
    "    RevSeq = ''.join(base for base in reversed(pattern))\n",
    "    return RevSeq"
   ]
  },
  {
   "cell_type": "code",
   "execution_count": 12,
   "metadata": {},
   "outputs": [],
   "source": [
    "def RevComp(pattern):\n",
    "    return Reverse(Complement(pattern))"
   ]
  },
  {
   "cell_type": "code",
   "execution_count": 13,
   "metadata": {},
   "outputs": [],
   "source": [
    "# 길이가 동일한 두 문자열이 얼마나 다른지 계산함\n",
    "def HammingDistance(str1, str2):\n",
    "    \n",
    "    # 비교하고자 하는 두 문자열의 길이와 결과로 반환할 Mismatch 수를 변수로 선언\n",
    "    strlen = len(str1)\n",
    "    mismatch = 0\n",
    "    \n",
    "    # i를 포인터로 하여 두 문자열 각각에서 다른지 비교\n",
    "    for i in range(strlen):\n",
    "        if str1[i] != str2[i]: mismatch += 1\n",
    "\n",
    "    return mismatch"
   ]
  },
  {
   "cell_type": "code",
   "execution_count": 14,
   "metadata": {},
   "outputs": [],
   "source": [
    "# 주어진 전체 문자열 Text에서 d개 이하의 mismatch만 허용하는 유사 motif(pattern)를 찾아 그 motif의 \"수\"를 반환\n",
    "def ApproximatePatternCount(text, pattern, d):\n",
    "    # 결과로 반환할 변수 선언\n",
    "    count = 0\n",
    "\n",
    "    # 주어진 text에서 pattern을 찾을 수 있는 범위를 모두 순회\n",
    "    for i in range(len(text) - len(pattern) + 1):\n",
    "\n",
    "        # 유사 pattern의 후보로 ppattern을 text로부터 slicing 해옴\n",
    "        ppattern = text[i:i+len(pattern)]\n",
    "\n",
    "        # ppattern과 원래 pattern의 HammingDistance를 계산하고, d보다 작다면 count\n",
    "        if HammingDistance(pattern, ppattern) <= d:\n",
    "            count += 1\n",
    "    \n",
    "    return count"
   ]
  },
  {
   "cell_type": "markdown",
   "metadata": {},
   "source": [
    "---\n",
    "\n",
    "현 문제 입출력 및 함수 구현"
   ]
  },
  {
   "cell_type": "code",
   "execution_count": 15,
   "metadata": {},
   "outputs": [],
   "source": [
    "# 입력 k에 대해 가능한 모든 k-mer 조합을 리스트로 반환하는 함수\n",
    "def makePattern(curPatterns, k):\n",
    "    # 결과를 반환할 리스트 초기화\n",
    "    result = []\n",
    "\n",
    "    # 추가할 염기의 순서를 지정하는 리스트 초기화\n",
    "    baseOrder = ['A', 'T', 'G', 'C']\n",
    "\n",
    "    if k == 1: return curPatterns\n",
    "    \n",
    "    elif k > 1:\n",
    "    \n",
    "        # 현재 시점의 curPatterns에서 하나를 꺼내 각각 A, T, G, C를 붙인 뒤 result에 저장\n",
    "        for subPattern in curPatterns:\n",
    "            for i in range(len(baseOrder)):\n",
    "                result.append(subPattern+baseOrder[i])\n",
    "\n",
    "        # 한번의 step이 끝나면 감소된 k로 재귀 호출\n",
    "        result = makePattern(result, k-1)\n",
    "\n",
    "        return result"
   ]
  },
  {
   "cell_type": "code",
   "execution_count": 16,
   "metadata": {},
   "outputs": [],
   "source": [
    "def MostFrequentPseudoPatternwithComp(text, k, d):\n",
    "    # 등장 횟수를 저장하는 count list, ppattern의 서열정보를 입력할 pList 초기화\n",
    "    count, pList = [], []\n",
    "    \n",
    "    # 후보가 될 k-mer를 생성\n",
    "    candidateKmer = makePattern(['A', 'T', 'G', 'C'], k)\n",
    "    \n",
    "    # 후보 k-mer 중 하나씩 꺼내 전체 text에서 검사\n",
    "    for kmer in candidateKmer:\n",
    "        \n",
    "        # 선정된 k-mer와 (k-mer)'을 pattern으로 할 때 ppattern의 각 횟수 합을 count 리스트에 저장\n",
    "        count.append(ApproximatePatternCount(text, kmer, d) + ApproximatePatternCount(text, RevComp(kmer), d))\n",
    "    \n",
    "    # count에서 최대값을 가질 때 pattern을 pList에 저장\n",
    "    pList.extend(candidateKmer[i] for i in range(len(count)) if count[i] == max(count))\n",
    "    \n",
    "    # 중복값 제거\n",
    "    pList = set(pList)\n",
    "\n",
    "    # 저장된 인덱스가 나타내는 pattern을 리스트로 반환\n",
    "    return pList"
   ]
  },
  {
   "cell_type": "code",
   "execution_count": 17,
   "metadata": {},
   "outputs": [
    {
     "name": "stdout",
     "output_type": "stream",
     "text": [
      "CCACG CGTGG "
     ]
    }
   ],
   "source": [
    "# 구현 함수 실행\n",
    "\n",
    "path = \"rosalind_ba1j.txt\"\n",
    "\n",
    "with open(path, 'r') as f:\n",
    "    Text = f.readline().strip()\n",
    "    k, d = map(int,f.readline().strip().split())\n",
    "\n",
    "    for result in MostFrequentPseudoPatternwithComp(Text, k, d):\n",
    "        print(result, end=' ')"
   ]
  }
 ],
 "metadata": {
  "kernelspec": {
   "display_name": "pydev",
   "language": "python",
   "name": "python3"
  },
  "language_info": {
   "codemirror_mode": {
    "name": "ipython",
    "version": 3
   },
   "file_extension": ".py",
   "mimetype": "text/x-python",
   "name": "python",
   "nbconvert_exporter": "python",
   "pygments_lexer": "ipython3",
   "version": "3.10.10"
  }
 },
 "nbformat": 4,
 "nbformat_minor": 2
}
