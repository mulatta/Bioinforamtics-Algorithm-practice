{
 "cells": [
  {
   "cell_type": "code",
   "execution_count": 7,
   "metadata": {},
   "outputs": [],
   "source": [
    "# 텍스트 파일을 읽어서 각 line을 lines 변수에 리스트로 저장\n",
    "path = \"rosalind_ba1g.txt\"\n",
    "fileBuffer = open(path, 'r')\n",
    "lines = fileBuffer.readlines()"
   ]
  },
  {
   "cell_type": "code",
   "execution_count": 8,
   "metadata": {},
   "outputs": [],
   "source": [
    "# 각 line을 해당하는 변수들로 할당\n",
    "str1 = lines[0].strip()\n",
    "str2 = lines[1].strip()"
   ]
  },
  {
   "cell_type": "code",
   "execution_count": 9,
   "metadata": {},
   "outputs": [],
   "source": [
    "# 길이가 동일한 두 문자열이 얼마나 다른지 계산함\n",
    "def HammingDistance(str1, str2):\n",
    "    \n",
    "    # 비교하고자 하는 두 문자열의 길이와 결과로 반환할 Mismatch 수를 변수로 선언\n",
    "    strlen = len(str1)\n",
    "    mismatch = 0\n",
    "    \n",
    "    # i를 포인터로 하여 두 문자열 각각에서 다른지 비교\n",
    "    for i in range(strlen):\n",
    "        if str1[i] != str2[i]: mismatch += 1\n",
    "\n",
    "    return mismatch"
   ]
  },
  {
   "cell_type": "code",
   "execution_count": 10,
   "metadata": {},
   "outputs": [
    {
     "name": "stdout",
     "output_type": "stream",
     "text": [
      "909\n"
     ]
    }
   ],
   "source": [
    "print(HammingDistance(str1, str2))"
   ]
  },
  {
   "cell_type": "code",
   "execution_count": 11,
   "metadata": {},
   "outputs": [],
   "source": [
    "# 열었던 파일 닫기\n",
    "fileBuffer.close()"
   ]
  }
 ],
 "metadata": {
  "kernelspec": {
   "display_name": "pydev",
   "language": "python",
   "name": "python3"
  },
  "language_info": {
   "codemirror_mode": {
    "name": "ipython",
    "version": 3
   },
   "file_extension": ".py",
   "mimetype": "text/x-python",
   "name": "python",
   "nbconvert_exporter": "python",
   "pygments_lexer": "ipython3",
   "version": "3.10.10"
  }
 },
 "nbformat": 4,
 "nbformat_minor": 2
}
