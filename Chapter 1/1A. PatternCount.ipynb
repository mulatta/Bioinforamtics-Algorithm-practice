{
 "cells": [
  {
   "cell_type": "code",
   "execution_count": 1,
   "metadata": {},
   "outputs": [],
   "source": [
    "# 텍스트 파일을 읽어서 각 line을 lines 변수에 리스트로 저장\n",
    "path = \"rosalind_ba1a.txt\"\n",
    "fileBuffer = open(path, 'r')\n",
    "lines = fileBuffer.readlines()"
   ]
  },
  {
   "cell_type": "code",
   "execution_count": 2,
   "metadata": {},
   "outputs": [],
   "source": [
    "# 각 line을 해당하는 변수들로 할당\n",
    "text = lines[0].strip()\n",
    "pattern = lines[1].strip()"
   ]
  },
  {
   "cell_type": "code",
   "execution_count": 3,
   "metadata": {},
   "outputs": [],
   "source": [
    "# 알고리즘에 필요한 함수 정의\n",
    "def PatternCount(text, pattern):\n",
    "    count = 0\n",
    "    for idx in range(len(text) - len(pattern) + 1):\n",
    "        if(text[idx:idx + len(pattern)] == pattern):\n",
    "            count += 1\n",
    "    return count\n"
   ]
  },
  {
   "cell_type": "code",
   "execution_count": 4,
   "metadata": {},
   "outputs": [
    {
     "name": "stdout",
     "output_type": "stream",
     "text": [
      "36\n"
     ]
    }
   ],
   "source": [
    "# 결과 출력\n",
    "print(PatternCount(text, pattern))"
   ]
  },
  {
   "cell_type": "code",
   "execution_count": 5,
   "metadata": {},
   "outputs": [],
   "source": [
    "# 열었던 파일 닫기\n",
    "fileBuffer.close()"
   ]
  }
 ],
 "metadata": {
  "kernelspec": {
   "display_name": "pydev",
   "language": "python",
   "name": "python3"
  },
  "language_info": {
   "codemirror_mode": {
    "name": "ipython",
    "version": 3
   },
   "file_extension": ".py",
   "mimetype": "text/x-python",
   "name": "python",
   "nbconvert_exporter": "python",
   "pygments_lexer": "ipython3",
   "version": "3.10.10"
  }
 },
 "nbformat": 4,
 "nbformat_minor": 2
}
