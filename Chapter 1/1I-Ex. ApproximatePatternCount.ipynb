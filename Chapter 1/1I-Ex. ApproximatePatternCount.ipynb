{
 "cells": [
  {
   "cell_type": "markdown",
   "metadata": {},
   "source": [
    "## 유사한 pattern(k-mer motif) 찾기\n",
    "\n",
    "### 개요\n",
    "- 임의의 threshold *d*에 대하여, 이보다 적은 횟수로 mismatch가 일어나는 pattern을 찾고자 함\n",
    "- 즉, d개의 Mismatch까지 허용하는 유사 motif를 찾는 것이 목표\n",
    "- 이전까지의 실습에서는 *정확히 동일한* pattern만을 찾았으나, 실제로는 Muatation 등의 이유로 유사한 서열의 Motif(pattern)를 가지기도 함. \n",
    "- 따라서, 어느정도 유사한 서열을 찾는 것은 중요함\n"
   ]
  },
  {
   "cell_type": "code",
   "execution_count": 1,
   "metadata": {},
   "outputs": [],
   "source": [
    "# 길이가 동일한 두 문자열이 얼마나 다른지 계산함\n",
    "def HammingDistance(str1, str2):\n",
    "    \n",
    "    # 비교하고자 하는 두 문자열의 길이와 결과로 반환할 Mismatch 수를 변수로 선언\n",
    "    strlen = len(str1)\n",
    "    mismatch = 0\n",
    "    \n",
    "    # i를 포인터로 하여 두 문자열 각각에서 다른지 비교\n",
    "    for i in range(strlen):\n",
    "        if str1[i] != str2[i]: mismatch += 1\n",
    "\n",
    "    return mismatch"
   ]
  },
  {
   "cell_type": "code",
   "execution_count": 4,
   "metadata": {},
   "outputs": [],
   "source": [
    "# 주어진 전체 문자열 Text에서 d개 이하의 mismatch만 허용하는 유사 motif(pattern)를 찾아 그 motif의 \"수\"를 반환\n",
    "def ApproximatePatternCount(text, pattern, d):\n",
    "    # 결과로 반환할 변수 선언\n",
    "    count = 0\n",
    "\n",
    "    # 주어진 text에서 pattern을 찾을 수 있는 범위를 모두 순회\n",
    "    for i in range(len(text) - len(pattern) + 1):\n",
    "\n",
    "        # 유사 pattern의 후보로 ppattern을 text로부터 slicing 해옴\n",
    "        ppattern = text[i:i+len(pattern)]\n",
    "\n",
    "        # ppattern과 원래 pattern의 HammingDistance를 계산하고, d보다 작다면 count\n",
    "        if HammingDistance(pattern, ppattern) <= d:\n",
    "            count += 1\n",
    "    \n",
    "    return count"
   ]
  },
  {
   "cell_type": "code",
   "execution_count": 6,
   "metadata": {},
   "outputs": [
    {
     "name": "stdout",
     "output_type": "stream",
     "text": [
      "4\n",
      "13\n"
     ]
    }
   ],
   "source": [
    "# Textbook의 예제 상황 변수 선언\n",
    "Text = \"AACAAGCATAAACATTAAAGAG\"\n",
    "Pattern = \"AAAAA\"\n",
    "\n",
    "# 책에서 주어진대로, 1개의 mismatch를 허용하는 유사 motif는 다음과 같이 찾을 수 있다.\n",
    "print(ApproximatePatternCount(Text, Pattern, 1))\n",
    "\n",
    "# 연습 문제의 구현 및 풀이\n",
    "print(ApproximatePatternCount(Text, Pattern, 2))"
   ]
  }
 ],
 "metadata": {
  "kernelspec": {
   "display_name": "pydev",
   "language": "python",
   "name": "python3"
  },
  "language_info": {
   "codemirror_mode": {
    "name": "ipython",
    "version": 3
   },
   "file_extension": ".py",
   "mimetype": "text/x-python",
   "name": "python",
   "nbconvert_exporter": "python",
   "pygments_lexer": "ipython3",
   "version": "3.10.10"
  }
 },
 "nbformat": 4,
 "nbformat_minor": 2
}
