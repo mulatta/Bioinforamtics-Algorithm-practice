{
 "cells": [
  {
   "cell_type": "code",
   "execution_count": 122,
   "metadata": {},
   "outputs": [],
   "source": [
    "# 텍스트 파일을 읽어서 각 line을 lines 변수에 리스트로 저장\n",
    "path = \"rosalind_ba1b.txt\"\n",
    "fileBuffer = open(path, 'r')\n",
    "lines = fileBuffer.readlines()"
   ]
  },
  {
   "cell_type": "code",
   "execution_count": 123,
   "metadata": {},
   "outputs": [],
   "source": [
    "# 각 line을 해당하는 변수들로 할당\n",
    "text = lines[0].strip()\n",
    "k = int(lines[1].strip())"
   ]
  },
  {
   "cell_type": "code",
   "execution_count": 124,
   "metadata": {},
   "outputs": [],
   "source": [
    "# 이전에 구현한 PatternCount 함수\n",
    "def PatternCount(text, pattern):\n",
    "    count = 0\n",
    "    for idx in range(len(text) - len(pattern) + 1):\n",
    "        if(text[idx:idx + len(pattern)] == pattern):\n",
    "            count += 1\n",
    "    return count"
   ]
  },
  {
   "cell_type": "code",
   "execution_count": 125,
   "metadata": {},
   "outputs": [],
   "source": [
    "# 주어진 text에서 특정 words의 빈도수를 계산하여 빈도수가 가장 높은 k-mer를 기록하고 반환하는 함수\n",
    "def FrequentWords(text, k):\n",
    "    count = [0 for i in range(len(text))]\n",
    "    FrequentPattern = []\n",
    "    \n",
    "    # i-th value가 가지는 k-mer의 빈도 수를 count라는 배열에 저장\n",
    "    for i in range(len(text) - k + 1):\n",
    "        pattern = text[i:i+k]\n",
    "        count[i] = PatternCount(text, pattern)\n",
    "\n",
    "    # count 배열을 순회하면서 maxCount값을 가지는 pattern을 FrequentPattern으로 저장\n",
    "    maxCount = max(count)\n",
    "    for i in range(len(text) - k):\n",
    "        if count[i] == maxCount:\n",
    "            FrequentPattern.append(text[i:i+k])\n",
    "    \n",
    "    # 위 4줄을 다음의 한 줄로 줄일 수 있음\n",
    "    # FrequentPattern.extend([text[i:i+k] for i in range(len(text) - k) if count[i] == max(count)])\n",
    "    \n",
    "    # 중복을 제거하기 위해 set 자료구조의 특성 이용\n",
    "    FrequentPattern = set(FrequentPattern)\n",
    "\n",
    "    return FrequentPattern"
   ]
  },
  {
   "cell_type": "code",
   "execution_count": 126,
   "metadata": {},
   "outputs": [
    {
     "name": "stdout",
     "output_type": "stream",
     "text": [
      "TGTCTGCACCAA ATGTCTGCACCA ACATGTCTGCAC GTCTGCACCAAG CATGTCTGCACC "
     ]
    }
   ],
   "source": [
    "for element in FrequentWords(text, k):\n",
    "    print(element , end = ' ')"
   ]
  },
  {
   "cell_type": "code",
   "execution_count": 127,
   "metadata": {},
   "outputs": [],
   "source": [
    "# 열었던 파일 닫기\n",
    "fileBuffer.close()"
   ]
  }
 ],
 "metadata": {
  "kernelspec": {
   "display_name": "pydev",
   "language": "python",
   "name": "python3"
  },
  "language_info": {
   "codemirror_mode": {
    "name": "ipython",
    "version": 3
   },
   "file_extension": ".py",
   "mimetype": "text/x-python",
   "name": "python",
   "nbconvert_exporter": "python",
   "pygments_lexer": "ipython3",
   "version": "3.10.10"
  }
 },
 "nbformat": 4,
 "nbformat_minor": 2
}
