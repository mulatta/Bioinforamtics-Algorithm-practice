{
 "cells": [
  {
   "cell_type": "code",
   "execution_count": 1,
   "metadata": {},
   "outputs": [],
   "source": [
    "# 텍스트 파일을 읽어서 각 line을 lines 변수에 리스트로 저장\n",
    "path = \"rosalind_ba1f.txt\"\n",
    "fileBuffer = open(path, 'r')\n",
    "genome = fileBuffer.readline().strip()"
   ]
  },
  {
   "cell_type": "code",
   "execution_count": 2,
   "metadata": {},
   "outputs": [],
   "source": [
    "# skewness를 계산한 뒤 최소가 되는 모든 인덱스를 리스트로 반환하는 함수\n",
    "def minimizeSkew(genome):\n",
    "    # 변수 선언\n",
    "    skew, minSkew = [], []\n",
    "    minValue = 9999\n",
    "\n",
    "    # 가중치 값을 저장하는 dictionary\n",
    "    weight = {'G':1, 'C':-1, 'A':0, 'T':0}\n",
    "    \n",
    "    # 가장 첫번째 genome 위치는 이전 값을 참조할 수 없으므로 자기 자신을 입력\n",
    "    skew.append(weight.get(genome[0]))\n",
    "\n",
    "    # 전체 genome에 대하여 모든 문자열을 순회하고 skew를 기록\n",
    "    for i in range(len(genome)):\n",
    "        skew.append(skew[i] + weight.get(genome[i]))\n",
    "\n",
    "    # 기록된 skew 중 최소값을 찾고, 최소값을 갖는 모든 인덱스를 리스트에 저장\n",
    "    for i in range(len(genome)):\n",
    "        if skew[i] == min(skew): minSkew.append(i)\n",
    "    \n",
    "    return minSkew"
   ]
  },
  {
   "cell_type": "code",
   "execution_count": 3,
   "metadata": {},
   "outputs": [
    {
     "name": "stdout",
     "output_type": "stream",
     "text": [
      "13124 13125 "
     ]
    }
   ],
   "source": [
    "for result in minimizeSkew(genome):\n",
    "    print(result, end=' ')"
   ]
  },
  {
   "cell_type": "code",
   "execution_count": 4,
   "metadata": {},
   "outputs": [],
   "source": [
    "# 열었던 파일 닫기\n",
    "fileBuffer.close()"
   ]
  }
 ],
 "metadata": {
  "kernelspec": {
   "display_name": "pydev",
   "language": "python",
   "name": "python3"
  },
  "language_info": {
   "codemirror_mode": {
    "name": "ipython",
    "version": 3
   },
   "file_extension": ".py",
   "mimetype": "text/x-python",
   "name": "python",
   "nbconvert_exporter": "python",
   "pygments_lexer": "ipython3",
   "version": "3.10.10"
  }
 },
 "nbformat": 4,
 "nbformat_minor": 2
}
