{
 "cells": [
  {
   "cell_type": "code",
   "execution_count": 17,
   "metadata": {},
   "outputs": [],
   "source": [
    "from Neighbors import Neighbors\n",
    "from PatternConversion import PattenToNumber, NumberToPattern\n",
    "from FrequentWords import findMostFrequentPatternWithMismatches"
   ]
  },
  {
   "cell_type": "code",
   "execution_count": 25,
   "metadata": {},
   "outputs": [],
   "source": []
  },
  {
   "cell_type": "code",
   "execution_count": 26,
   "metadata": {},
   "outputs": [
    {
     "name": "stdout",
     "output_type": "stream",
     "text": [
      "TTTTTA\n",
      "TTTTTA\n"
     ]
    }
   ],
   "source": [
    "# test case\n",
    "path3 = \"/Users/seungwon/Documents/Development/Github/Bioinforamtics-Algorithm-practice/Chapter 1/rosalind_ba1i.txt\"\n",
    "with open(path3, 'r') as f:\n",
    "    Text = f.readline().strip()\n",
    "    k, d = map(int, f.readline().strip().split())\n",
    "\n",
    "    print(*findMostFrequentPatternWithMismatches(Text, k, d))\n",
    "    print(*findFrequentWordsWithMismatchesBySorting(Text, k, d))"
   ]
  },
  {
   "cell_type": "code",
   "execution_count": null,
   "metadata": {},
   "outputs": [],
   "source": []
  }
 ],
 "metadata": {
  "kernelspec": {
   "display_name": "pydev",
   "language": "python",
   "name": "python3"
  },
  "language_info": {
   "codemirror_mode": {
    "name": "ipython",
    "version": 3
   },
   "file_extension": ".py",
   "mimetype": "text/x-python",
   "name": "python",
   "nbconvert_exporter": "python",
   "pygments_lexer": "ipython3",
   "version": "3.10.10"
  }
 },
 "nbformat": 4,
 "nbformat_minor": 2
}
