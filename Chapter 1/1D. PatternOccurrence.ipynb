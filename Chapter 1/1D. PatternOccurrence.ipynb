{
 "cells": [
  {
   "cell_type": "code",
   "execution_count": 16,
   "metadata": {},
   "outputs": [],
   "source": [
    "# 텍스트 파일을 읽어서 각 line을 lines 변수에 리스트로 저장\n",
    "path = \"rosalind_ba1d.txt\"\n",
    "fileBuffer = open(path, 'r')\n",
    "lines = fileBuffer.readlines()"
   ]
  },
  {
   "cell_type": "code",
   "execution_count": 17,
   "metadata": {},
   "outputs": [],
   "source": [
    "# 각 line을 해당하는 변수들로 할당\n",
    "pattern = lines[0].strip()\n",
    "text = lines[1].strip()"
   ]
  },
  {
   "cell_type": "code",
   "execution_count": 18,
   "metadata": {},
   "outputs": [],
   "source": [
    "# 주어진 text 문자열에서 pattern이 발생한 문자열의 인덱스를 리스트로 반환하는 함수\n",
    "def PatternOccurrence(text, pattern):\n",
    "    # 발생 빈도를 저장할 배열 선언\n",
    "    OccList = []\n",
    "    # pattern을 셀 수 있는 모든 문자열을 시작점으로 순회\n",
    "    for idx in range(len(text) - len(pattern) + 1):\n",
    "        \n",
    "        # 시작 문자열부터 pattern 길이만큼의 부분문자열(substring)이 pattern을 형성하면 그 인덱스를 배열에 저장\n",
    "        if(text[idx:idx + len(pattern)] == pattern):\n",
    "            OccList.append(idx)\n",
    "\n",
    "    return OccList\n"
   ]
  },
  {
   "cell_type": "code",
   "execution_count": 19,
   "metadata": {},
   "outputs": [
    {
     "name": "stdout",
     "output_type": "stream",
     "text": [
      "89 104 111 118 157 287 323 330 381 406 437 512 519 600 628 679 695 726 761 777 822 867 909 916 988 1003 1010 1024 1068 1075 1082 1293 1328 1399 1444 1451 1474 1498 1505 1524 1539 1578 1593 1608 1699 1706 1713 1720 1862 1877 1892 1908 1915 1950 1957 1975 1982 2099 2145 2152 2215 2222 2255 2262 2269 2276 2329 2371 2398 2407 2414 2431 2496 2545 2552 2575 2591 2598 2605 2651 2708 2718 2739 2766 2835 2855 2885 2927 3045 3079 3137 3189 3196 3203 3231 3258 3265 3280 3287 3294 3309 3370 3377 3393 3427 3441 3448 3499 3506 3513 3578 3633 3661 3668 3675 3682 3689 3696 3764 3781 3870 3877 3921 4002 4027 4202 4308 4388 4414 4540 4551 4626 4678 4685 4692 4709 4740 4747 4787 4810 4854 4873 4924 5003 5010 5053 5115 5136 5198 5229 5236 5299 5331 5338 5347 5419 5426 5496 5543 5577 5608 5663 5736 5753 5762 5788 5795 5810 5817 5835 5862 5869 5943 5993 6000 6017 6037 6059 6087 6168 6221 6246 6262 6269 6369 6376 6410 6438 6485 6501 6540 6547 6594 6721 6737 6760 6767 6804 6819 6934 6941 6958 6980 6987 7071 7078 7085 7092 7099 7119 7136 7175 7200 7232 7239 7257 7264 7287 7294 7381 7390 7416 7468 7478 7503 7529 7536 7552 7559 7566 7606 7613 7628 7647 7654 7661 7700 7770 7840 7886 7903 7910 7934 7941 8055 8062 8085 8147 8163 8181 8262 8294 8322 8346 8372 "
     ]
    }
   ],
   "source": [
    "# 결과 출력\n",
    "for idx in PatternOccurrence(text, pattern):\n",
    "    print(idx, end=' ')"
   ]
  },
  {
   "cell_type": "code",
   "execution_count": 20,
   "metadata": {},
   "outputs": [],
   "source": [
    "# 열었던 파일 닫기\n",
    "fileBuffer.close()"
   ]
  }
 ],
 "metadata": {
  "kernelspec": {
   "display_name": "pydev",
   "language": "python",
   "name": "python3"
  },
  "language_info": {
   "codemirror_mode": {
    "name": "ipython",
    "version": 3
   },
   "file_extension": ".py",
   "mimetype": "text/x-python",
   "name": "python",
   "nbconvert_exporter": "python",
   "pygments_lexer": "ipython3",
   "version": "3.10.10"
  }
 },
 "nbformat": 4,
 "nbformat_minor": 2
}
